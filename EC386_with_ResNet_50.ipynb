{
  "nbformat": 4,
  "nbformat_minor": 0,
  "metadata": {
    "colab": {
      "provenance": [],
      "authorship_tag": "ABX9TyMf1LEN0LLEMnrsdtaMiUIK",
      "include_colab_link": true
    },
    "kernelspec": {
      "name": "python3",
      "display_name": "Python 3"
    },
    "language_info": {
      "name": "python"
    }
  },
  "cells": [
    {
      "cell_type": "markdown",
      "metadata": {
        "id": "view-in-github",
        "colab_type": "text"
      },
      "source": [
        "<a href=\"https://colab.research.google.com/github/PRASANNA-416/EC386-Image-processing-Project/blob/main/EC386_with_ResNet_50.ipynb\" target=\"_parent\"><img src=\"https://colab.research.google.com/assets/colab-badge.svg\" alt=\"Open In Colab\"/></a>"
      ]
    },
    {
      "cell_type": "code",
      "execution_count": 5,
      "metadata": {
        "id": "qp91jUVIZ3L3"
      },
      "outputs": [],
      "source": [
        "import numpy as np \n",
        "import pandas as pd \n",
        "import matplotlib.pyplot as plt\n",
        "%matplotlib inline\n",
        "from tensorflow import keras\n",
        "from keras.layers import Conv2D, Input, MaxPool2D,Flatten, Dense, Permute, GlobalAveragePooling2D\n",
        "from keras.models import Model\n",
        "from tensorflow.keras.optimizers import Adam\n",
        "import keras\n",
        "import dlib\n",
        "import os.path\n",
        "from keras.models import Sequential\n",
        "# from keras.applications.resnet50.ResNet50 import ResNet50\n",
        "# from keras.applications.resnet50 import Dense\n",
        "import cv2\n",
        "import os\n",
        "from keras.layers import Dropout\n",
        "from keras.applications.vgg16 import VGG16\n",
        "from sklearn.metrics import confusion_matrix\n",
        "from keras.preprocessing.image import ImageDataGenerator\n",
        "import os\n",
        "from keras.models import Model\n",
        "from keras.optimizers import Adam\n",
        "from keras.applications.vgg16 import VGG16, preprocess_input\n",
        "from keras.preprocessing.image import ImageDataGenerator\n",
        "from keras.callbacks import ModelCheckpoint, EarlyStopping\n",
        "from keras.layers import Dense, Dropout, Flatten\n",
        "from pathlib import Path\n",
        "import numpy as np\n",
        "from tensorflow.keras.applications.vgg19 import VGG19\n",
        "import tensorflow as tf"
      ]
    },
    {
      "cell_type": "code",
      "source": [
        "from google.colab import drive\n",
        "drive.mount(\"/content/gdrive\")"
      ],
      "metadata": {
        "id": "ck-7My1YaBeM",
        "colab": {
          "base_uri": "https://localhost:8080/"
        },
        "outputId": "30cfd222-8073-448a-b6dc-30d9bb7cb5a5"
      },
      "execution_count": 2,
      "outputs": [
        {
          "output_type": "stream",
          "name": "stdout",
          "text": [
            "Mounted at /content/gdrive\n"
          ]
        }
      ]
    },
    {
      "cell_type": "code",
      "source": [
        "from tensorflow.keras.preprocessing.image import ImageDataGenerator\n",
        "# create a data generator\n",
        "datagen = ImageDataGenerator(\n",
        "        samplewise_center=True,  # set each sample mean to 0\n",
        "        rotation_range=10,  # randomly rotate images in the range (degrees, 0 to 180)\n",
        "        zoom_range = 0.2, # Randomly zoom image \n",
        "        width_shift_range=0.2,  # randomly shift images horizontally (fraction of total width)\n",
        "        height_shift_range=0.2,  # randomly shift images vertically (fraction of total height)\n",
        "        horizontal_flip=True,  # randomly flip images\n",
        "        vertical_flip=False)"
      ],
      "metadata": {
        "id": "R7LyAhUbaBhI"
      },
      "execution_count": 3,
      "outputs": []
    },
    {
      "cell_type": "code",
      "source": [
        "train_it = datagen.flow_from_directory('/content/gdrive/MyDrive/Mini_Project/Train', \n",
        "                                       target_size=(224, 224), \n",
        "                                       color_mode='rgb', \n",
        "                                       class_mode='categorical', \n",
        "                                       batch_size=5)\n",
        "# load and iterate validation dataset\n",
        "valid_it = datagen.flow_from_directory('/content/gdrive/MyDrive/Mini_Project/Test', \n",
        "                                      target_size=(224, 224), \n",
        "                                      color_mode='rgb', \n",
        "                                      class_mode='categorical', \n",
        "                                      batch_size=5)"
      ],
      "metadata": {
        "id": "GrSz9LsUaBk8",
        "colab": {
          "base_uri": "https://localhost:8080/"
        },
        "outputId": "1ab73f6f-7886-4956-9f7a-38f4652864ee"
      },
      "execution_count": 4,
      "outputs": [
        {
          "output_type": "stream",
          "name": "stdout",
          "text": [
            "Found 132 images belonging to 3 classes.\n",
            "Found 31 images belonging to 3 classes.\n"
          ]
        }
      ]
    },
    {
      "cell_type": "code",
      "source": [
        "resnet_model = Sequential()\n",
        "\n",
        "pretrained_model= tf.keras.applications.ResNet50(include_top=False,\n",
        "                   input_shape=(224,224,3),\n",
        "                   pooling='avg',classes=3,\n",
        "                   weights='imagenet')\n",
        "for layer in pretrained_model.layers:\n",
        "        layer.trainable=False\n",
        "\n",
        "resnet_model.add(pretrained_model)"
      ],
      "metadata": {
        "id": "8DAf_KMaaBnn",
        "colab": {
          "base_uri": "https://localhost:8080/"
        },
        "outputId": "6c4f0073-6814-4eda-e926-1935e090af2d"
      },
      "execution_count": 6,
      "outputs": [
        {
          "output_type": "stream",
          "name": "stdout",
          "text": [
            "Downloading data from https://storage.googleapis.com/tensorflow/keras-applications/resnet/resnet50_weights_tf_dim_ordering_tf_kernels_notop.h5\n",
            "94765736/94765736 [==============================] - 1s 0us/step\n"
          ]
        }
      ]
    },
    {
      "cell_type": "code",
      "source": [
        "resnet_model.add(Flatten())\n",
        "resnet_model.add(Dense(512, activation='relu'))\n",
        "resnet_model.add(Dense(128, activation='relu'))\n",
        "resnet_model.add(Dense(3, activation='softmax'))"
      ],
      "metadata": {
        "id": "ptSNBmvWaBqt"
      },
      "execution_count": 7,
      "outputs": []
    },
    {
      "cell_type": "code",
      "source": [
        "resnet_model.summary()"
      ],
      "metadata": {
        "id": "VISnVMlZaBuT",
        "colab": {
          "base_uri": "https://localhost:8080/"
        },
        "outputId": "d554e4c1-989a-433c-da50-eb2bffba8254"
      },
      "execution_count": 8,
      "outputs": [
        {
          "output_type": "stream",
          "name": "stdout",
          "text": [
            "Model: \"sequential\"\n",
            "_________________________________________________________________\n",
            " Layer (type)                Output Shape              Param #   \n",
            "=================================================================\n",
            " resnet50 (Functional)       (None, 2048)              23587712  \n",
            "                                                                 \n",
            " flatten (Flatten)           (None, 2048)              0         \n",
            "                                                                 \n",
            " dense (Dense)               (None, 512)               1049088   \n",
            "                                                                 \n",
            " dense_1 (Dense)             (None, 128)               65664     \n",
            "                                                                 \n",
            " dense_2 (Dense)             (None, 3)                 387       \n",
            "                                                                 \n",
            "=================================================================\n",
            "Total params: 24,702,851\n",
            "Trainable params: 1,115,139\n",
            "Non-trainable params: 23,587,712\n",
            "_________________________________________________________________\n"
          ]
        }
      ]
    },
    {
      "cell_type": "code",
      "source": [
        "resnet_model.compile(optimizer=Adam(learning_rate=0.001),loss='categorical_crossentropy',metrics=['accuracy'])"
      ],
      "metadata": {
        "id": "NBWjZdTdFIqr"
      },
      "execution_count": 10,
      "outputs": []
    },
    {
      "cell_type": "code",
      "source": [
        "input_shape = (224, 224, 3)\n",
        "optim_1 = Adam(learning_rate=0.001)\n",
        "n_classes = 3\n",
        "\n",
        "n_steps = 10 \n",
        "n_val_steps = 5\n",
        "n_epochs = 30"
      ],
      "metadata": {
        "id": "1M3RBJWRFr5q"
      },
      "execution_count": 11,
      "outputs": []
    },
    {
      "cell_type": "code",
      "source": [
        "history = resnet_model.fit(train_it,\n",
        "                            batch_size= 5 ,\n",
        "                            epochs= 20,\n",
        "                            validation_data= valid_it,\n",
        "                            steps_per_epoch= 10,\n",
        "                            validation_steps= 3,\n",
        "                            verbose=1)"
      ],
      "metadata": {
        "colab": {
          "base_uri": "https://localhost:8080/"
        },
        "id": "IumQ1JP9FIyR",
        "outputId": "ea34cd86-6d7d-4e13-98ca-b91575d22509"
      },
      "execution_count": 12,
      "outputs": [
        {
          "output_type": "stream",
          "name": "stdout",
          "text": [
            "Epoch 1/20\n",
            "10/10 [==============================] - 37s 3s/step - loss: 1.7864 - accuracy: 0.5532 - val_loss: 1.0319 - val_accuracy: 0.6667\n",
            "Epoch 2/20\n",
            "10/10 [==============================] - 17s 2s/step - loss: 0.5771 - accuracy: 0.7600 - val_loss: 0.2075 - val_accuracy: 0.9333\n",
            "Epoch 3/20\n",
            "10/10 [==============================] - 14s 1s/step - loss: 0.5834 - accuracy: 0.7800 - val_loss: 3.1830 - val_accuracy: 0.5333\n",
            "Epoch 4/20\n",
            "10/10 [==============================] - 13s 1s/step - loss: 0.9124 - accuracy: 0.7400 - val_loss: 0.2609 - val_accuracy: 0.8667\n",
            "Epoch 5/20\n",
            "10/10 [==============================] - 13s 1s/step - loss: 0.5643 - accuracy: 0.9000 - val_loss: 0.5932 - val_accuracy: 0.8000\n",
            "Epoch 6/20\n",
            "10/10 [==============================] - 13s 1s/step - loss: 0.1715 - accuracy: 0.9400 - val_loss: 0.1248 - val_accuracy: 0.9333\n",
            "Epoch 7/20\n",
            "10/10 [==============================] - 12s 1s/step - loss: 0.2381 - accuracy: 0.8936 - val_loss: 0.2500 - val_accuracy: 0.9333\n",
            "Epoch 8/20\n",
            "10/10 [==============================] - 13s 1s/step - loss: 0.1246 - accuracy: 0.9200 - val_loss: 0.5199 - val_accuracy: 0.8667\n",
            "Epoch 9/20\n",
            "10/10 [==============================] - 13s 1s/step - loss: 0.1354 - accuracy: 0.9200 - val_loss: 0.1416 - val_accuracy: 0.8667\n",
            "Epoch 10/20\n",
            "10/10 [==============================] - 12s 1s/step - loss: 0.0945 - accuracy: 0.9574 - val_loss: 0.0584 - val_accuracy: 0.9333\n",
            "Epoch 11/20\n",
            "10/10 [==============================] - 12s 1s/step - loss: 0.0498 - accuracy: 1.0000 - val_loss: 0.1323 - val_accuracy: 0.9333\n",
            "Epoch 12/20\n",
            "10/10 [==============================] - 12s 1s/step - loss: 0.0749 - accuracy: 0.9787 - val_loss: 0.4320 - val_accuracy: 0.8000\n",
            "Epoch 13/20\n",
            "10/10 [==============================] - 13s 1s/step - loss: 0.0152 - accuracy: 1.0000 - val_loss: 0.0845 - val_accuracy: 0.9333\n",
            "Epoch 14/20\n",
            "10/10 [==============================] - 13s 1s/step - loss: 0.1623 - accuracy: 0.8800 - val_loss: 0.2113 - val_accuracy: 0.9333\n",
            "Epoch 15/20\n",
            "10/10 [==============================] - 12s 1s/step - loss: 0.0662 - accuracy: 1.0000 - val_loss: 0.2632 - val_accuracy: 0.9333\n",
            "Epoch 16/20\n",
            "10/10 [==============================] - 12s 1s/step - loss: 0.0482 - accuracy: 0.9787 - val_loss: 0.5581 - val_accuracy: 0.8667\n",
            "Epoch 17/20\n",
            "10/10 [==============================] - 12s 1s/step - loss: 0.0649 - accuracy: 0.9574 - val_loss: 0.0316 - val_accuracy: 1.0000\n",
            "Epoch 18/20\n",
            "10/10 [==============================] - 13s 1s/step - loss: 0.0981 - accuracy: 0.9400 - val_loss: 0.0810 - val_accuracy: 0.9333\n",
            "Epoch 19/20\n",
            "10/10 [==============================] - 13s 1s/step - loss: 0.0952 - accuracy: 0.9800 - val_loss: 0.1414 - val_accuracy: 0.9333\n",
            "Epoch 20/20\n",
            "10/10 [==============================] - 13s 1s/step - loss: 0.0458 - accuracy: 1.0000 - val_loss: 0.3859 - val_accuracy: 0.8000\n"
          ]
        }
      ]
    },
    {
      "cell_type": "code",
      "source": [
        "fig1 = plt.gcf()\n",
        "plt.plot(history.history['accuracy'])\n",
        "plt.plot(history.history['val_accuracy'])\n",
        "plt.axis(ymin=0.4,ymax=1)\n",
        "plt.grid()\n",
        "plt.title('Model Accuracy')\n",
        "plt.ylabel('Accuracy')\n",
        "plt.xlabel('Epochs')\n",
        "plt.legend(['train', 'validation'])\n",
        "plt.show()"
      ],
      "metadata": {
        "colab": {
          "base_uri": "https://localhost:8080/",
          "height": 295
        },
        "id": "KHnJWOLmFI2L",
        "outputId": "ce21c4a6-6425-41c5-eb9e-94aa39841274"
      },
      "execution_count": 13,
      "outputs": [
        {
          "output_type": "display_data",
          "data": {
            "text/plain": [
              "<Figure size 432x288 with 1 Axes>"
            ],
            "image/png": "[encoded data removed]"
          },
          "metadata": {
            "needs_background": "light"
          }
        }
      ]
    },
    {
      "cell_type": "code",
      "source": [],
      "metadata": {
        "id": "jt3hNEIQHKBL"
      },
      "execution_count": null,
      "outputs": []
    }
  ]
}