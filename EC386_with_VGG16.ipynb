{
  "cells": [
    {
      "cell_type": "markdown",
      "metadata": {
        "id": "view-in-github",
        "colab_type": "text"
      },
      "source": [
        "<a href=\"https://colab.research.google.com/github/PRASANNA-416/EC386-Image-processing-Project/blob/main/EC386_with_VGG16.ipynb\" target=\"_parent\"><img src=\"https://colab.research.google.com/assets/colab-badge.svg\" alt=\"Open In Colab\"/></a>"
      ]
    },
    {
      "cell_type": "code",
      "execution_count": null,
      "metadata": {
        "id": "Vh5o1mPkTH1g"
      },
      "outputs": [],
      "source": [
        "import numpy as np \n",
        "import pandas as pd \n",
        "import matplotlib.pyplot as plt\n",
        "%matplotlib inline\n",
        "\n",
        "\n",
        "\n",
        "from sklearn.model_selection import train_test_split"
      ]
    },
    {
      "cell_type": "code",
      "execution_count": null,
      "metadata": {
        "id": "JuRQP--gb2S2"
      },
      "outputs": [],
      "source": []
    },
    {
      "cell_type": "code",
      "execution_count": null,
      "metadata": {
        "id": "1HyhIeWLXs5G"
      },
      "outputs": [],
      "source": [
        "\n",
        "from tensorflow import keras\n",
        "from keras.layers import Conv2D, Input, MaxPool2D,Flatten, Dense, Permute, GlobalAveragePooling2D\n",
        "from keras.models import Model\n",
        "from tensorflow.keras.optimizers import Adam\n",
        "import keras\n",
        "import dlib\n",
        "import os.path\n",
        "from keras.models import Sequential\n",
        "# from keras.applications.resnet50.ResNet50 import ResNet50\n",
        "# from keras.applications.resnet50 import Dense\n",
        "import cv2\n",
        "import os\n",
        "from keras.layers import Dropout"
      ]
    },
    {
      "cell_type": "code",
      "execution_count": null,
      "metadata": {
        "colab": {
          "base_uri": "https://localhost:8080/"
        },
        "id": "ztgf0qKATQDC",
        "outputId": "925de351-0fae-402d-abc7-dced2c88dc66"
      },
      "outputs": [
        {
          "output_type": "stream",
          "name": "stdout",
          "text": [
            "Mounted at /content/gdrive\n"
          ]
        }
      ],
      "source": [
        "from google.colab import drive\n",
        "drive.mount(\"/content/gdrive\")"
      ]
    },
    {
      "cell_type": "markdown",
      "metadata": {
        "id": "dG4AmYnmebGi"
      },
      "source": [
        "Using Transfer Learning Approach"
      ]
    },
    {
      "cell_type": "code",
      "execution_count": null,
      "metadata": {
        "id": "VfIZ0XnnTQNd"
      },
      "outputs": [],
      "source": [
        "from keras.applications.vgg16 import VGG16\n",
        "from sklearn.metrics import confusion_matrix\n",
        "from keras.preprocessing.image import ImageDataGenerator\n",
        "import os\n",
        "from keras.models import Model\n",
        "from keras.optimizers import Adam\n",
        "from keras.applications.vgg16 import VGG16, preprocess_input\n",
        "from keras.preprocessing.image import ImageDataGenerator\n",
        "from keras.callbacks import ModelCheckpoint, EarlyStopping\n",
        "from keras.layers import Dense, Dropout, Flatten\n",
        "from pathlib import Path\n",
        "import numpy as np"
      ]
    },
    {
      "cell_type": "code",
      "execution_count": null,
      "metadata": {
        "id": "4949clGjTQWP"
      },
      "outputs": [],
      "source": [
        "# train pyolorus  = /content/gdrive/MyDrive/Mini_Project/Pyrolous/Train\n",
        "# test pyolorus = /content/gdrive/MyDrive/Mini_Project/Pyrolous/Test\n",
        "# train Z line = /content/gdrive/MyDrive/Mini_Project/Z-line/Train\n",
        "# test Z line = /content/gdrive/MyDrive/Mini_Project/Z-line/Test\n",
        "# train cecum = /content/gdrive/MyDrive/Mini_Project/cecum/Train\n",
        "#test cecum = /content/gdrive/MyDrive/Mini_Project/cecum/Test"
      ]
    },
    {
      "cell_type": "code",
      "execution_count": null,
      "metadata": {
        "id": "3xDNxSkRTU2e",
        "colab": {
          "base_uri": "https://localhost:8080/"
        },
        "outputId": "0aadb19e-7097-4f20-c0c4-a7d6a8aa2fb2"
      },
      "outputs": [
        {
          "output_type": "stream",
          "name": "stdout",
          "text": [
            "Downloading data from https://storage.googleapis.com/tensorflow/keras-applications/vgg16/vgg16_weights_tf_dim_ordering_tf_kernels_notop.h5\n",
            "58889256/58889256 [==============================] - 0s 0us/step\n"
          ]
        }
      ],
      "source": [
        "from tensorflow import keras\n",
        "base_model = keras.applications.VGG16(\n",
        "    weights='imagenet',  # Load weights pre-trained on ImageNet.\n",
        "    input_shape=(224, 224, 3),\n",
        "    include_top=False)"
      ]
    },
    {
      "cell_type": "code",
      "execution_count": null,
      "metadata": {
        "colab": {
          "base_uri": "https://localhost:8080/"
        },
        "id": "Wr8HsiCYAmCP",
        "outputId": "420b3ad7-7c73-438a-b078-8b5c5accb523"
      },
      "outputs": [
        {
          "output_type": "stream",
          "name": "stdout",
          "text": [
            "Model: \"vgg16\"\n",
            "_________________________________________________________________\n",
            " Layer (type)                Output Shape              Param #   \n",
            "=================================================================\n",
            " input_1 (InputLayer)        [(None, 224, 224, 3)]     0         \n",
            "                                                                 \n",
            " block1_conv1 (Conv2D)       (None, 224, 224, 64)      1792      \n",
            "                                                                 \n",
            " block1_conv2 (Conv2D)       (None, 224, 224, 64)      36928     \n",
            "                                                                 \n",
            " block1_pool (MaxPooling2D)  (None, 112, 112, 64)      0         \n",
            "                                                                 \n",
            " block2_conv1 (Conv2D)       (None, 112, 112, 128)     73856     \n",
            "                                                                 \n",
            " block2_conv2 (Conv2D)       (None, 112, 112, 128)     147584    \n",
            "                                                                 \n",
            " block2_pool (MaxPooling2D)  (None, 56, 56, 128)       0         \n",
            "                                                                 \n",
            " block3_conv1 (Conv2D)       (None, 56, 56, 256)       295168    \n",
            "                                                                 \n",
            " block3_conv2 (Conv2D)       (None, 56, 56, 256)       590080    \n",
            "                                                                 \n",
            " block3_conv3 (Conv2D)       (None, 56, 56, 256)       590080    \n",
            "                                                                 \n",
            " block3_pool (MaxPooling2D)  (None, 28, 28, 256)       0         \n",
            "                                                                 \n",
            " block4_conv1 (Conv2D)       (None, 28, 28, 512)       1180160   \n",
            "                                                                 \n",
            " block4_conv2 (Conv2D)       (None, 28, 28, 512)       2359808   \n",
            "                                                                 \n",
            " block4_conv3 (Conv2D)       (None, 28, 28, 512)       2359808   \n",
            "                                                                 \n",
            " block4_pool (MaxPooling2D)  (None, 14, 14, 512)       0         \n",
            "                                                                 \n",
            " block5_conv1 (Conv2D)       (None, 14, 14, 512)       2359808   \n",
            "                                                                 \n",
            " block5_conv2 (Conv2D)       (None, 14, 14, 512)       2359808   \n",
            "                                                                 \n",
            " block5_conv3 (Conv2D)       (None, 14, 14, 512)       2359808   \n",
            "                                                                 \n",
            " block5_pool (MaxPooling2D)  (None, 7, 7, 512)         0         \n",
            "                                                                 \n",
            "=================================================================\n",
            "Total params: 14,714,688\n",
            "Trainable params: 14,714,688\n",
            "Non-trainable params: 0\n",
            "_________________________________________________________________\n"
          ]
        }
      ],
      "source": [
        "base_model.summary()"
      ]
    },
    {
      "cell_type": "code",
      "execution_count": null,
      "metadata": {
        "id": "0Jez0lIIAmVq"
      },
      "outputs": [],
      "source": [
        "# DO NOT CHANGE THIS CELL\n",
        "base_model.trainable = False"
      ]
    },
    {
      "cell_type": "code",
      "execution_count": null,
      "metadata": {
        "id": "2oeVySljAmZJ"
      },
      "outputs": [],
      "source": [
        "# inputs = keras.Input(shape=(224, 224, 3))\n",
        "# # Separately from setting trainable on the model, we set training to False \n",
        "# x = base_model(inputs, training=False)\n",
        "# x = keras.layers.GlobalAveragePooling2D()(x)\n",
        "\n",
        "# x = keras.layers.Flatten(name=\"flatten\")(x)\n",
        "# x = keras.layers.Dense(128,activation = 'relu')(x)\n",
        "# x = keras.layers.Dense(64,activation = 'relu')(x)\n",
        "# x = keras.layers.Dense(32,activation = 'relu')(x)\n",
        "# x = keras.layers.Dropout(0.2)(x)\n",
        "# x = keras.layers.Dense(64,activation = 'relu')(x)\n",
        "# x = keras.layers.Dense(128,activation = 'relu')(x)\n",
        "# x = keras.layers.Dense(32,activation = 'relu')(x)\n",
        "# x = keras.layers.Dense(64,activation = 'relu')(x)\n",
        "# x = keras.layers.Dropout(0.1)(x)\n",
        "# outputs = keras.layers.Dense(3)(x)\n",
        "# model = keras.Model(inputs, outputs)\n",
        "\n",
        "\n",
        "def create_model(input_shape, n_classes, optimizer='rmsprop', fine_tune=0):\n",
        "    \"\"\"\n",
        "    Compiles a model integrated with VGG16 pretrained layers\n",
        "    \n",
        "    input_shape: tuple - the shape of input images (width, height, channels)\n",
        "    n_classes: int - number of classes for the output layer\n",
        "    optimizer: string - instantiated optimizer to use for training. Defaults to 'RMSProp'\n",
        "    fine_tune: int - The number of pre-trained layers to unfreeze.\n",
        "                If set to 0, all pretrained layers will freeze during training\n",
        "    \"\"\"\n",
        "    \n",
        "    # Pretrained convolutional layers are loaded using the Imagenet weights.\n",
        "    # Include_top is set to False, in order to exclude the model's fully-connected layers.\n",
        "    conv_base = VGG16(include_top=False,\n",
        "                     weights='imagenet', \n",
        "                     input_shape=input_shape)\n",
        "    \n",
        "    # Defines how many layers to freeze during training.\n",
        "    # Layers in the convolutional base are switched from trainable to non-trainable\n",
        "    # depending on the size of the fine-tuning parameter.\n",
        "    if fine_tune > 0:\n",
        "        for layer in conv_base.layers[:-fine_tune]:\n",
        "            layer.trainable = False\n",
        "    else:\n",
        "        for layer in conv_base.layers:\n",
        "            layer.trainable = False\n",
        "\n",
        "    # Create a new 'top' of the model (i.e. fully-connected layers).\n",
        "    # This is 'bootstrapping' a new top_model onto the pretrained layers.\n",
        "    top_model = conv_base.output\n",
        "    top_model = Flatten(name=\"flatten\")(top_model)\n",
        "    top_model = Dense(4096, activation='relu')(top_model)\n",
        "    top_model = Dense(1072, activation='relu')(top_model)\n",
        "    top_model = Dropout(0.2)(top_model)\n",
        "    output_layer = Dense(3, activation='softmax')(top_model)\n",
        "    \n",
        "    # Group the convolutional base and new fully-connected layers into a Model object.\n",
        "    model = Model(inputs=conv_base.input, outputs=output_layer)\n",
        "\n",
        "    # Compiles the model for training.\n",
        "    model.compile(optimizer=optimizer, \n",
        "                  loss='categorical_crossentropy',\n",
        "                  metrics=['accuracy'])\n",
        "    \n",
        "    return model"
      ]
    },
    {
      "cell_type": "code",
      "execution_count": null,
      "metadata": {
        "id": "StCd7unUAmdD"
      },
      "outputs": [],
      "source": []
    },
    {
      "cell_type": "code",
      "execution_count": null,
      "metadata": {
        "id": "1ng4qpLEAmjG"
      },
      "outputs": [],
      "source": [
        "input_shape = (224, 224, 3)\n",
        "optim_1 = Adam(learning_rate=0.001)\n",
        "n_classes = 3\n",
        "\n",
        "n_steps = 10 \n",
        "n_val_steps = 5\n",
        "n_epochs = 30\n",
        "\n",
        "# First we'll train the model without Fine-tuning\n",
        "vgg_model = create_model(input_shape, 3, optim_1, fine_tune=0)\n"
      ]
    },
    {
      "cell_type": "code",
      "source": [
        "vgg_model.summary()"
      ],
      "metadata": {
        "colab": {
          "base_uri": "https://localhost:8080/"
        },
        "id": "RDOLsqGl2Asq",
        "outputId": "7aba17e3-04eb-44f9-bab5-86ad7fce91e3"
      },
      "execution_count": null,
      "outputs": [
        {
          "output_type": "stream",
          "name": "stdout",
          "text": [
            "Model: \"model_1\"\n",
            "_________________________________________________________________\n",
            " Layer (type)                Output Shape              Param #   \n",
            "=================================================================\n",
            " input_3 (InputLayer)        [(None, 224, 224, 3)]     0         \n",
            "                                                                 \n",
            " block1_conv1 (Conv2D)       (None, 224, 224, 64)      1792      \n",
            "                                                                 \n",
            " block1_conv2 (Conv2D)       (None, 224, 224, 64)      36928     \n",
            "                                                                 \n",
            " block1_pool (MaxPooling2D)  (None, 112, 112, 64)      0         \n",
            "                                                                 \n",
            " block2_conv1 (Conv2D)       (None, 112, 112, 128)     73856     \n",
            "                                                                 \n",
            " block2_conv2 (Conv2D)       (None, 112, 112, 128)     147584    \n",
            "                                                                 \n",
            " block2_pool (MaxPooling2D)  (None, 56, 56, 128)       0         \n",
            "                                                                 \n",
            " block3_conv1 (Conv2D)       (None, 56, 56, 256)       295168    \n",
            "                                                                 \n",
            " block3_conv2 (Conv2D)       (None, 56, 56, 256)       590080    \n",
            "                                                                 \n",
            " block3_conv3 (Conv2D)       (None, 56, 56, 256)       590080    \n",
            "                                                                 \n",
            " block3_pool (MaxPooling2D)  (None, 28, 28, 256)       0         \n",
            "                                                                 \n",
            " block4_conv1 (Conv2D)       (None, 28, 28, 512)       1180160   \n",
            "                                                                 \n",
            " block4_conv2 (Conv2D)       (None, 28, 28, 512)       2359808   \n",
            "                                                                 \n",
            " block4_conv3 (Conv2D)       (None, 28, 28, 512)       2359808   \n",
            "                                                                 \n",
            " block4_pool (MaxPooling2D)  (None, 14, 14, 512)       0         \n",
            "                                                                 \n",
            " block5_conv1 (Conv2D)       (None, 14, 14, 512)       2359808   \n",
            "                                                                 \n",
            " block5_conv2 (Conv2D)       (None, 14, 14, 512)       2359808   \n",
            "                                                                 \n",
            " block5_conv3 (Conv2D)       (None, 14, 14, 512)       2359808   \n",
            "                                                                 \n",
            " block5_pool (MaxPooling2D)  (None, 7, 7, 512)         0         \n",
            "                                                                 \n",
            " flatten (Flatten)           (None, 25088)             0         \n",
            "                                                                 \n",
            " dense_3 (Dense)             (None, 4096)              102764544 \n",
            "                                                                 \n",
            " dense_4 (Dense)             (None, 1072)              4391984   \n",
            "                                                                 \n",
            " dropout_1 (Dropout)         (None, 1072)              0         \n",
            "                                                                 \n",
            " dense_5 (Dense)             (None, 3)                 3219      \n",
            "                                                                 \n",
            "=================================================================\n",
            "Total params: 121,874,435\n",
            "Trainable params: 107,159,747\n",
            "Non-trainable params: 14,714,688\n",
            "_________________________________________________________________\n"
          ]
        }
      ]
    },
    {
      "cell_type": "code",
      "execution_count": null,
      "metadata": {
        "id": "E0YS16wyD5tA"
      },
      "outputs": [],
      "source": [
        "from tensorflow.keras.preprocessing.image import ImageDataGenerator\n",
        "# create a data generator\n",
        "datagen = ImageDataGenerator(\n",
        "        samplewise_center=True,  # set each sample mean to 0\n",
        "        rotation_range=10,  # randomly rotate images in the range (degrees, 0 to 180)\n",
        "        zoom_range = 0.2, # Randomly zoom image \n",
        "        width_shift_range=0.2,  # randomly shift images horizontally (fraction of total width)\n",
        "        height_shift_range=0.2,  # randomly shift images vertically (fraction of total height)\n",
        "        horizontal_flip=True,  # randomly flip images\n",
        "        vertical_flip=False)"
      ]
    },
    {
      "cell_type": "code",
      "execution_count": null,
      "metadata": {
        "colab": {
          "base_uri": "https://localhost:8080/"
        },
        "id": "g9mwDsAOD72x",
        "outputId": "0a5ae596-5854-498e-d752-559350b5633b"
      },
      "outputs": [
        {
          "output_type": "stream",
          "name": "stdout",
          "text": [
            "Found 132 images belonging to 3 classes.\n",
            "Found 31 images belonging to 3 classes.\n"
          ]
        }
      ],
      "source": [
        "train_it = datagen.flow_from_directory('/content/gdrive/MyDrive/Mini_Project/Train', \n",
        "                                       target_size=(224, 224), \n",
        "                                       color_mode='rgb', \n",
        "                                       class_mode='categorical', \n",
        "                                       batch_size=5)\n",
        "# load and iterate validation dataset\n",
        "valid_it = datagen.flow_from_directory('/content/gdrive/MyDrive/Mini_Project/Test', \n",
        "                                      target_size=(224, 224), \n",
        "                                      color_mode='rgb', \n",
        "                                      class_mode='categorical', \n",
        "                                      batch_size=5)"
      ]
    },
    {
      "cell_type": "code",
      "execution_count": null,
      "metadata": {
        "colab": {
          "base_uri": "https://localhost:8080/"
        },
        "id": "9QRz69wHD77w",
        "outputId": "3bf6324f-c5b0-40e9-fca0-528397673f58"
      },
      "outputs": [
        {
          "output_type": "stream",
          "name": "stdout",
          "text": [
            "Epoch 1/20\n",
            "10/10 [==============================] - 43s 4s/step - loss: 156.6256 - accuracy: 0.4894 - val_loss: 142.0974 - val_accuracy: 0.4000\n",
            "Epoch 2/20\n",
            "10/10 [==============================] - 37s 4s/step - loss: 77.6917 - accuracy: 0.4894 - val_loss: 117.2820 - val_accuracy: 0.4667\n",
            "Epoch 3/20\n",
            "10/10 [==============================] - 38s 4s/step - loss: 79.0232 - accuracy: 0.6000 - val_loss: 75.2502 - val_accuracy: 0.6000\n",
            "Epoch 4/20\n",
            "10/10 [==============================] - 38s 4s/step - loss: 30.5936 - accuracy: 0.6600 - val_loss: 4.9688 - val_accuracy: 0.8000\n",
            "Epoch 5/20\n",
            "10/10 [==============================] - 36s 4s/step - loss: 8.1394 - accuracy: 0.6383 - val_loss: 5.2476 - val_accuracy: 0.6667\n",
            "Epoch 6/20\n",
            "10/10 [==============================] - 37s 4s/step - loss: 4.9081 - accuracy: 0.8200 - val_loss: 1.5276 - val_accuracy: 0.8667\n",
            "Epoch 7/20\n",
            "10/10 [==============================] - 35s 4s/step - loss: 8.3445 - accuracy: 0.8298 - val_loss: 3.0558 - val_accuracy: 0.9333\n",
            "Epoch 8/20\n",
            "10/10 [==============================] - 36s 4s/step - loss: 3.9988 - accuracy: 0.8200 - val_loss: 0.4685 - val_accuracy: 0.8667\n",
            "Epoch 9/20\n",
            "10/10 [==============================] - 38s 4s/step - loss: 2.1337 - accuracy: 0.8200 - val_loss: 0.2713 - val_accuracy: 0.8667\n",
            "Epoch 10/20\n",
            "10/10 [==============================] - 35s 4s/step - loss: 5.0878 - accuracy: 0.7234 - val_loss: 11.3101 - val_accuracy: 0.7333\n",
            "Epoch 11/20\n",
            "10/10 [==============================] - 37s 4s/step - loss: 5.5717 - accuracy: 0.8000 - val_loss: 8.6167 - val_accuracy: 0.8000\n",
            "Epoch 12/20\n",
            "10/10 [==============================] - 35s 4s/step - loss: 3.7963 - accuracy: 0.7872 - val_loss: 8.4902 - val_accuracy: 0.6667\n",
            "Epoch 13/20\n",
            "10/10 [==============================] - 37s 4s/step - loss: 2.5192 - accuracy: 0.8400 - val_loss: 10.3228 - val_accuracy: 0.7333\n",
            "Epoch 14/20\n",
            "10/10 [==============================] - 37s 4s/step - loss: 1.2202 - accuracy: 0.9400 - val_loss: 5.1698 - val_accuracy: 0.8667\n",
            "Epoch 15/20\n",
            "10/10 [==============================] - 38s 4s/step - loss: 6.3442 - accuracy: 0.8200 - val_loss: 2.9033 - val_accuracy: 0.8000\n",
            "Epoch 16/20\n",
            "10/10 [==============================] - 35s 4s/step - loss: 2.6371 - accuracy: 0.8936 - val_loss: 12.9141 - val_accuracy: 0.7333\n",
            "Epoch 17/20\n",
            "10/10 [==============================] - 36s 4s/step - loss: 1.8092 - accuracy: 0.8800 - val_loss: 4.3432 - val_accuracy: 0.6667\n",
            "Epoch 18/20\n",
            "10/10 [==============================] - 36s 4s/step - loss: 3.4941 - accuracy: 0.8800 - val_loss: 4.5454 - val_accuracy: 0.8667\n",
            "Epoch 19/20\n",
            "10/10 [==============================] - 35s 4s/step - loss: 3.2766 - accuracy: 0.7660 - val_loss: 4.3761 - val_accuracy: 0.7333\n",
            "Epoch 20/20\n",
            "10/10 [==============================] - 37s 4s/step - loss: 1.0742 - accuracy: 0.9000 - val_loss: 3.3325 - val_accuracy: 0.8000\n",
            "CPU times: user 22min 53s, sys: 8.15 s, total: 23min 2s\n",
            "Wall time: 13min 7s\n"
          ]
        }
      ],
      "source": [
        "%%time \n",
        "\n",
        "vgg_history = vgg_model.fit(train_it,\n",
        "                            batch_size= 5 ,\n",
        "                            epochs= 20,\n",
        "                            validation_data= valid_it,\n",
        "                            steps_per_epoch= 10,\n",
        "                            validation_steps= 3,\n",
        "                            verbose=1)"
      ]
    },
    {
      "cell_type": "code",
      "execution_count": null,
      "metadata": {
        "id": "zwZyJacYD7-3"
      },
      "outputs": [],
      "source": []
    }
  ],
  "metadata": {
    "colab": {
      "provenance": [],
      "authorship_tag": "ABX9TyOccM1swhnvqOB0idf2TV0D",
      "include_colab_link": true
    },
    "kernelspec": {
      "display_name": "Python 3",
      "name": "python3"
    },
    "language_info": {
      "name": "python"
    }
  },
  "nbformat": 4,
  "nbformat_minor": 0
}