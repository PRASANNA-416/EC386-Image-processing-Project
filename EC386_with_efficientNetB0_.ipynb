{
  "nbformat": 4,
  "nbformat_minor": 0,
  "metadata": {
    "colab": {
      "provenance": [],
      "authorship_tag": "ABX9TyNhGuz8JH6ew0Y60D/zzRMx",
      "include_colab_link": true
    },
    "kernelspec": {
      "name": "python3",
      "display_name": "Python 3"
    },
    "language_info": {
      "name": "python"
    },
    "gpuClass": "standard"
  },
  "cells": [
    {
      "cell_type": "markdown",
      "metadata": {
        "id": "view-in-github",
        "colab_type": "text"
      },
      "source": [
        "<a href=\"https://colab.research.google.com/github/PRASANNA-416/EC386-Image-processing-Project/blob/main/EC386_with_efficientNetB0_.ipynb\" target=\"_parent\"><img src=\"https://colab.research.google.com/assets/colab-badge.svg\" alt=\"Open In Colab\"/></a>"
      ]
    },
    {
      "cell_type": "code",
      "execution_count": 1,
      "metadata": {
        "id": "MPJs8s8zVwUj"
      },
      "outputs": [],
      "source": [
        "import numpy as np \n",
        "import pandas as pd \n",
        "import matplotlib.pyplot as plt\n",
        "%matplotlib inline\n",
        "from tensorflow import keras\n",
        "from keras.layers import Conv2D, Input, MaxPool2D,Flatten, Dense, Permute, GlobalAveragePooling2D\n",
        "from keras.models import Model\n",
        "from tensorflow.keras.optimizers import Adam\n",
        "import keras\n",
        "from keras.models import Sequential\n",
        "# from keras.applications.resnet50.ResNet50 import ResNet50\n",
        "# from keras.applications.resnet50 import Dense\n",
        "from keras.layers import Dropout\n",
        "from keras.applications.efficientnet import EfficientNetB0\n",
        "from sklearn.metrics import confusion_matrix\n",
        "from keras.preprocessing.image import ImageDataGenerator\n",
        "from keras.models import Model\n",
        "from keras.optimizers import Adam\n",
        "from keras.applications.efficientnet import EfficientNetB0, preprocess_input\n",
        "from keras.preprocessing.image import ImageDataGenerator\n",
        "from keras.callbacks import ModelCheckpoint, EarlyStopping\n",
        "from keras.layers import Dense, Dropout, Flatten\n",
        "import tensorflow as tf\n"
      ]
    },
    {
      "cell_type": "code",
      "source": [],
      "metadata": {
        "id": "qRZatmfjW5PZ"
      },
      "execution_count": 1,
      "outputs": []
    },
    {
      "cell_type": "code",
      "source": [
        "from google.colab import drive\n",
        "drive.mount(\"/content/gdrive\")"
      ],
      "metadata": {
        "colab": {
          "base_uri": "https://localhost:8080/"
        },
        "id": "mwu1wdxHV2H4",
        "outputId": "fabc1c55-962e-4b9e-db44-14ad628f7933"
      },
      "execution_count": 2,
      "outputs": [
        {
          "output_type": "stream",
          "name": "stdout",
          "text": [
            "Mounted at /content/gdrive\n"
          ]
        }
      ]
    },
    {
      "cell_type": "code",
      "source": [
        "from tensorflow.keras.preprocessing.image import ImageDataGenerator\n",
        "# create a data generator\n",
        "datagen = ImageDataGenerator(\n",
        "        samplewise_center=True,  # set each sample mean to 0\n",
        "        rotation_range=10,  # randomly rotate images in the range (degrees, 0 to 180)\n",
        "        zoom_range = 0.2, # Randomly zoom image \n",
        "        width_shift_range=0.2,  # randomly shift images horizontally (fraction of total width)\n",
        "        height_shift_range=0.2,  # randomly shift images vertically (fraction of total height)\n",
        "        horizontal_flip=True,  # randomly flip images\n",
        "        vertical_flip=False)"
      ],
      "metadata": {
        "id": "5uGxpO3_V2Kq"
      },
      "execution_count": 3,
      "outputs": []
    },
    {
      "cell_type": "code",
      "source": [
        "train_it = datagen.flow_from_directory('/content/gdrive/MyDrive/Mini_Project/Train', \n",
        "                                       target_size=(224, 224), \n",
        "                                       color_mode='rgb', \n",
        "                                       class_mode='categorical', \n",
        "                                       batch_size=5)\n",
        "# load and iterate validation dataset\n",
        "valid_it = datagen.flow_from_directory('/content/gdrive/MyDrive/Mini_Project/Test', \n",
        "                                      target_size=(224, 224), \n",
        "                                      color_mode='rgb', \n",
        "                                      class_mode='categorical', \n",
        "                                      batch_size=5)"
      ],
      "metadata": {
        "colab": {
          "base_uri": "https://localhost:8080/"
        },
        "id": "Ku6Kiit0V2Nb",
        "outputId": "2bca7078-5d0a-4cab-96f3-76b0b3e28520"
      },
      "execution_count": 4,
      "outputs": [
        {
          "output_type": "stream",
          "name": "stdout",
          "text": [
            "Found 132 images belonging to 3 classes.\n",
            "Found 31 images belonging to 3 classes.\n"
          ]
        }
      ]
    },
    {
      "cell_type": "code",
      "source": [
        "EfficientNet_model = Sequential()\n",
        "pretrained_model = EfficientNetB0(\n",
        "    weights='imagenet',  # Load weights pre-trained on ImageNet.\n",
        "    input_shape=(224, 224, 3),\n",
        "    include_top=False)"
      ],
      "metadata": {
        "id": "QSYTEjobV2QP",
        "colab": {
          "base_uri": "https://localhost:8080/"
        },
        "outputId": "ce3635db-80b6-4bc9-8317-8f9f9b4ed709"
      },
      "execution_count": 5,
      "outputs": [
        {
          "output_type": "stream",
          "name": "stdout",
          "text": [
            "Downloading data from https://storage.googleapis.com/keras-applications/efficientnetb0_notop.h5\n",
            "16705208/16705208 [==============================] - 1s 0us/step\n"
          ]
        }
      ]
    },
    {
      "cell_type": "code",
      "source": [
        "for layer in pretrained_model.layers:\n",
        "        layer.trainable=False\n",
        "\n",
        "EfficientNet_model.add(pretrained_model)"
      ],
      "metadata": {
        "id": "YbRdC4wMV2St"
      },
      "execution_count": 6,
      "outputs": []
    },
    {
      "cell_type": "code",
      "source": [
        "EfficientNet_model.add(Flatten())\n",
        "EfficientNet_model.add(Dense(512, activation='relu'))\n",
        "EfficientNet_model.add(Dense(128, activation='relu'))\n",
        "EfficientNet_model.add(Dense(3, activation='softmax'))"
      ],
      "metadata": {
        "id": "4kAEhx-2WbaD"
      },
      "execution_count": 7,
      "outputs": []
    },
    {
      "cell_type": "code",
      "source": [
        "EfficientNet_model.summary()"
      ],
      "metadata": {
        "id": "ZZtH4mlJWbcc",
        "colab": {
          "base_uri": "https://localhost:8080/"
        },
        "outputId": "eb059859-0d0c-45e9-8ae3-08280a1f5491"
      },
      "execution_count": 8,
      "outputs": [
        {
          "output_type": "stream",
          "name": "stdout",
          "text": [
            "Model: \"sequential\"\n",
            "_________________________________________________________________\n",
            " Layer (type)                Output Shape              Param #   \n",
            "=================================================================\n",
            " efficientnetb0 (Functional)  (None, 7, 7, 1280)       4049571   \n",
            "                                                                 \n",
            " flatten (Flatten)           (None, 62720)             0         \n",
            "                                                                 \n",
            " dense (Dense)               (None, 512)               32113152  \n",
            "                                                                 \n",
            " dense_1 (Dense)             (None, 128)               65664     \n",
            "                                                                 \n",
            " dense_2 (Dense)             (None, 3)                 387       \n",
            "                                                                 \n",
            "=================================================================\n",
            "Total params: 36,228,774\n",
            "Trainable params: 32,179,203\n",
            "Non-trainable params: 4,049,571\n",
            "_________________________________________________________________\n"
          ]
        }
      ]
    },
    {
      "cell_type": "code",
      "source": [
        "EfficientNet_model.compile(optimizer=Adam(learning_rate=0.001),loss='categorical_crossentropy',metrics=['accuracy'])"
      ],
      "metadata": {
        "id": "TSTulhOQWbfE"
      },
      "execution_count": 9,
      "outputs": []
    },
    {
      "cell_type": "code",
      "source": [
        "input_shape = (224, 224, 3)\n",
        "optim_1 = Adam(learning_rate=0.001)\n",
        "n_classes = 3\n",
        "\n",
        "n_steps = 10 \n",
        "n_val_steps = 5\n",
        "n_epochs = 30"
      ],
      "metadata": {
        "id": "g4R-gNlwWbj-"
      },
      "execution_count": 10,
      "outputs": []
    },
    {
      "cell_type": "code",
      "source": [
        "history = EfficientNet_model.fit(train_it,\n",
        "                            batch_size= 5 ,\n",
        "                            epochs= 20,\n",
        "                            validation_data= valid_it,\n",
        "                            steps_per_epoch= 10,\n",
        "                            validation_steps= 3,\n",
        "                            verbose=1)"
      ],
      "metadata": {
        "id": "77-_5VvqV2Vg",
        "colab": {
          "base_uri": "https://localhost:8080/"
        },
        "outputId": "d4eceba1-844a-4471-a44a-94cc46dc2fc4"
      },
      "execution_count": 11,
      "outputs": [
        {
          "output_type": "stream",
          "name": "stdout",
          "text": [
            "Epoch 1/20\n",
            "10/10 [==============================] - 51s 4s/step - loss: 3.3956 - accuracy: 0.6200 - val_loss: 4.5787 - val_accuracy: 0.6667\n",
            "Epoch 2/20\n",
            "10/10 [==============================] - 27s 3s/step - loss: 4.4296 - accuracy: 0.7400 - val_loss: 2.1791 - val_accuracy: 0.8667\n",
            "Epoch 3/20\n",
            "10/10 [==============================] - 16s 2s/step - loss: 7.1480 - accuracy: 0.7234 - val_loss: 3.4772 - val_accuracy: 0.8000\n",
            "Epoch 4/20\n",
            "10/10 [==============================] - 12s 1s/step - loss: 3.7383 - accuracy: 0.8511 - val_loss: 0.3574 - val_accuracy: 0.8667\n",
            "Epoch 5/20\n",
            "10/10 [==============================] - 9s 832ms/step - loss: 3.3065 - accuracy: 0.7000 - val_loss: 1.8799 - val_accuracy: 0.8000\n",
            "Epoch 6/20\n",
            "10/10 [==============================] - 8s 761ms/step - loss: 2.5160 - accuracy: 0.7872 - val_loss: 1.1033 - val_accuracy: 0.8667\n",
            "Epoch 7/20\n",
            "10/10 [==============================] - 8s 814ms/step - loss: 1.8579 - accuracy: 0.7660 - val_loss: 6.2785 - val_accuracy: 0.8000\n",
            "Epoch 8/20\n",
            "10/10 [==============================] - 8s 840ms/step - loss: 2.4407 - accuracy: 0.8400 - val_loss: 3.7693 - val_accuracy: 0.8000\n",
            "Epoch 9/20\n",
            "10/10 [==============================] - 8s 793ms/step - loss: 2.1258 - accuracy: 0.7400 - val_loss: 1.0122 - val_accuracy: 0.8667\n",
            "Epoch 10/20\n",
            "10/10 [==============================] - 8s 758ms/step - loss: 1.9181 - accuracy: 0.8400 - val_loss: 1.9818 - val_accuracy: 0.8000\n",
            "Epoch 11/20\n",
            "10/10 [==============================] - 7s 745ms/step - loss: 3.6304 - accuracy: 0.7800 - val_loss: 0.1665 - val_accuracy: 0.9333\n",
            "Epoch 12/20\n",
            "10/10 [==============================] - 8s 759ms/step - loss: 1.3328 - accuracy: 0.8800 - val_loss: 4.3136e-04 - val_accuracy: 1.0000\n",
            "Epoch 13/20\n",
            "10/10 [==============================] - 7s 733ms/step - loss: 0.2341 - accuracy: 0.9787 - val_loss: 1.4160 - val_accuracy: 0.8667\n",
            "Epoch 14/20\n",
            "10/10 [==============================] - 9s 855ms/step - loss: 2.0266 - accuracy: 0.8936 - val_loss: 8.2295e-04 - val_accuracy: 1.0000\n",
            "Epoch 15/20\n",
            "10/10 [==============================] - 7s 746ms/step - loss: 1.2148 - accuracy: 0.8400 - val_loss: 0.2621 - val_accuracy: 0.9333\n",
            "Epoch 16/20\n",
            "10/10 [==============================] - 7s 722ms/step - loss: 2.5377 - accuracy: 0.9149 - val_loss: 2.2482 - val_accuracy: 0.7333\n",
            "Epoch 17/20\n",
            "10/10 [==============================] - 7s 735ms/step - loss: 1.3333 - accuracy: 0.8400 - val_loss: 0.1394 - val_accuracy: 0.9333\n",
            "Epoch 18/20\n",
            "10/10 [==============================] - 7s 740ms/step - loss: 1.4005 - accuracy: 0.8600 - val_loss: 0.1091 - val_accuracy: 0.9333\n",
            "Epoch 19/20\n",
            "10/10 [==============================] - 7s 730ms/step - loss: 0.2637 - accuracy: 0.9400 - val_loss: 7.7586 - val_accuracy: 0.6667\n",
            "Epoch 20/20\n",
            "10/10 [==============================] - 9s 946ms/step - loss: 0.6508 - accuracy: 0.9000 - val_loss: 0.4624 - val_accuracy: 0.9333\n"
          ]
        }
      ]
    },
    {
      "cell_type": "code",
      "source": [
        "fig1 = plt.gcf()\n",
        "plt.plot(history.history['accuracy'])\n",
        "plt.plot(history.history['val_accuracy'])\n",
        "plt.axis(ymin=0.4,ymax=1)\n",
        "plt.grid()\n",
        "plt.title('Model Accuracy')\n",
        "plt.ylabel('Accuracy')\n",
        "plt.xlabel('Epochs')\n",
        "plt.legend(['train', 'validation'])\n",
        "plt.show()"
      ],
      "metadata": {
        "id": "5a-8JXRYV2YC",
        "colab": {
          "base_uri": "https://localhost:8080/",
          "height": 295
        },
        "outputId": "f2420a88-6769-4608-d51f-026659f78a10"
      },
      "execution_count": 13,
      "outputs": [
        {
          "output_type": "display_data",
          "data": {
            "text/plain": [
              "<Figure size 432x288 with 1 Axes>"
            ],
            "image/png": "[encoded data removed]"
          },
          "metadata": {
            "needs_background": "light"
          }
        }
      ]
    },
    {
      "cell_type": "code",
      "source": [],
      "metadata": {
        "id": "W4aZUN4qV2bA"
      },
      "execution_count": 12,
      "outputs": []
    }
  ]
}