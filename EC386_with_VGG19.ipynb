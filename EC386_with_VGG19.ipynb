{
  "nbformat": 4,
  "nbformat_minor": 0,
  "metadata": {
    "colab": {
      "provenance": [],
      "authorship_tag": "ABX9TyM96Yc8opmqCqvzFl78eMUM",
      "include_colab_link": true
    },
    "kernelspec": {
      "name": "python3",
      "display_name": "Python 3"
    },
    "language_info": {
      "name": "python"
    },
    "accelerator": "GPU",
    "gpuClass": "standard"
  },
  "cells": [
    {
      "cell_type": "markdown",
      "metadata": {
        "id": "view-in-github",
        "colab_type": "text"
      },
      "source": [
        "<a href=\"https://colab.research.google.com/github/PRASANNA-416/EC386-Image-processing-Project/blob/main/EC386_with_VGG19.ipynb\" target=\"_parent\"><img src=\"https://colab.research.google.com/assets/colab-badge.svg\" alt=\"Open In Colab\"/></a>"
      ]
    },
    {
      "cell_type": "code",
      "execution_count": 1,
      "metadata": {
        "id": "oxpxCGKAyf1b"
      },
      "outputs": [],
      "source": [
        "import numpy as np \n",
        "import pandas as pd \n",
        "import matplotlib.pyplot as plt\n",
        "%matplotlib inline\n",
        "from tensorflow import keras\n",
        "from keras.layers import Conv2D, Input, MaxPool2D,Flatten, Dense, Permute, GlobalAveragePooling2D\n",
        "from keras.models import Model\n",
        "from tensorflow.keras.optimizers import Adam\n",
        "import keras\n",
        "from keras.models import Sequential\n",
        "from keras.layers import Dropout\n",
        "from keras.applications.vgg19 import VGG19\n",
        "from sklearn.metrics import confusion_matrix\n",
        "from keras.preprocessing.image import ImageDataGenerator\n",
        "from keras.models import Model\n",
        "from keras.optimizers import Adam\n",
        "from keras.preprocessing.image import ImageDataGenerator\n",
        "from keras.callbacks import ModelCheckpoint, EarlyStopping\n",
        "from keras.layers import Dense, Dropout, Flatten\n",
        "from tensorflow.keras.applications.vgg19 import VGG19\n",
        "import tensorflow as tf"
      ]
    },
    {
      "cell_type": "code",
      "source": [
        "from google.colab import drive\n",
        "drive.mount(\"/content/gdrive\")"
      ],
      "metadata": {
        "colab": {
          "base_uri": "https://localhost:8080/"
        },
        "id": "aWMmkQGWyl0i",
        "outputId": "55f0d4c9-08bf-42a0-ae5e-1ceb08ccc45c"
      },
      "execution_count": 2,
      "outputs": [
        {
          "output_type": "stream",
          "name": "stdout",
          "text": [
            "Mounted at /content/gdrive\n"
          ]
        }
      ]
    },
    {
      "cell_type": "code",
      "source": [
        "# create a data generator\n",
        "datagen = ImageDataGenerator(\n",
        "        samplewise_center=True,  # set each sample mean to 0\n",
        "        rotation_range=10,  # randomly rotate images in the range (degrees, 0 to 180)\n",
        "        zoom_range = 0.2, # Randomly zoom image \n",
        "        width_shift_range=0.2,  # randomly shift images horizontally (fraction of total width)\n",
        "        height_shift_range=0.2,  # randomly shift images vertically (fraction of total height)\n",
        "        horizontal_flip=True,  # randomly flip images\n",
        "        vertical_flip=False)"
      ],
      "metadata": {
        "id": "hJenHeI2yl3w"
      },
      "execution_count": 3,
      "outputs": []
    },
    {
      "cell_type": "code",
      "source": [
        "train_it = datagen.flow_from_directory('/content/gdrive/MyDrive/Mini_Project/Train', \n",
        "                                       target_size=(224, 224), \n",
        "                                       color_mode='rgb', \n",
        "                                       class_mode='categorical', \n",
        "                                       batch_size=5)\n",
        "# load and iterate validation dataset\n",
        "valid_it = datagen.flow_from_directory('/content/gdrive/MyDrive/Mini_Project/Test', \n",
        "                                      target_size=(224, 224), \n",
        "                                      color_mode='rgb', \n",
        "                                      class_mode='categorical', \n",
        "                                      batch_size=5)"
      ],
      "metadata": {
        "colab": {
          "base_uri": "https://localhost:8080/"
        },
        "id": "OaVXFidByl6j",
        "outputId": "d93e688d-f3c8-4091-8f06-8d8a3fcf9209"
      },
      "execution_count": 4,
      "outputs": [
        {
          "output_type": "stream",
          "name": "stdout",
          "text": [
            "Found 132 images belonging to 3 classes.\n",
            "Found 31 images belonging to 3 classes.\n"
          ]
        }
      ]
    },
    {
      "cell_type": "code",
      "source": [
        "VGG19_model = Sequential()\n",
        "pretrained_model = keras.applications.VGG19(\n",
        "    weights='imagenet',  # Load weights pre-trained on ImageNet.\n",
        "    input_shape=(224, 224, 3),\n",
        "    include_top=False)"
      ],
      "metadata": {
        "colab": {
          "base_uri": "https://localhost:8080/"
        },
        "id": "7SubqRBgzq8h",
        "outputId": "69b05d12-fb0a-41cc-83c5-8b320c528c16"
      },
      "execution_count": 5,
      "outputs": [
        {
          "output_type": "stream",
          "name": "stdout",
          "text": [
            "Downloading data from https://storage.googleapis.com/tensorflow/keras-applications/vgg19/vgg19_weights_tf_dim_ordering_tf_kernels_notop.h5\n",
            "80134624/80134624 [==============================] - 4s 0us/step\n"
          ]
        }
      ]
    },
    {
      "cell_type": "code",
      "source": [
        "for layer in pretrained_model.layers:\n",
        "        layer.trainable=False\n",
        "\n",
        "VGG19_model.add(pretrained_model)"
      ],
      "metadata": {
        "id": "HB4UwewCyl9q"
      },
      "execution_count": 6,
      "outputs": []
    },
    {
      "cell_type": "code",
      "source": [
        "VGG19_model.add(Flatten())\n",
        "VGG19_model.add(Dense(512, activation='relu'))\n",
        "VGG19_model.add(Dense(128, activation='relu'))\n",
        "VGG19_model.add(Dense(3, activation='softmax'))"
      ],
      "metadata": {
        "id": "THPy4l_nymBK"
      },
      "execution_count": 7,
      "outputs": []
    },
    {
      "cell_type": "code",
      "source": [
        "VGG19_model.summary()"
      ],
      "metadata": {
        "colab": {
          "base_uri": "https://localhost:8080/"
        },
        "id": "OD-TPslOymEm",
        "outputId": "baa0fef8-665f-48c2-b369-fadd9dba79a3"
      },
      "execution_count": 8,
      "outputs": [
        {
          "output_type": "stream",
          "name": "stdout",
          "text": [
            "Model: \"sequential\"\n",
            "_________________________________________________________________\n",
            " Layer (type)                Output Shape              Param #   \n",
            "=================================================================\n",
            " vgg19 (Functional)          (None, 7, 7, 512)         20024384  \n",
            "                                                                 \n",
            " flatten (Flatten)           (None, 25088)             0         \n",
            "                                                                 \n",
            " dense (Dense)               (None, 512)               12845568  \n",
            "                                                                 \n",
            " dense_1 (Dense)             (None, 128)               65664     \n",
            "                                                                 \n",
            " dense_2 (Dense)             (None, 3)                 387       \n",
            "                                                                 \n",
            "=================================================================\n",
            "Total params: 32,936,003\n",
            "Trainable params: 12,911,619\n",
            "Non-trainable params: 20,024,384\n",
            "_________________________________________________________________\n"
          ]
        }
      ]
    },
    {
      "cell_type": "code",
      "source": [
        "VGG19_model.compile(optimizer=Adam(learning_rate=0.001),loss='categorical_crossentropy',metrics=['accuracy'])"
      ],
      "metadata": {
        "id": "X3Ow5QcA2Y6m"
      },
      "execution_count": 9,
      "outputs": []
    },
    {
      "cell_type": "code",
      "source": [
        "input_shape = (224, 224, 3)\n",
        "optim_1 = Adam(learning_rate=0.001)\n",
        "n_classes = 3\n",
        "\n",
        "n_steps = 10 \n",
        "n_val_steps = 5\n",
        "n_epochs = 30"
      ],
      "metadata": {
        "id": "R97kYubu2Y-R"
      },
      "execution_count": 10,
      "outputs": []
    },
    {
      "cell_type": "code",
      "source": [
        "history = VGG19_model.fit(train_it,\n",
        "                            batch_size= 5 ,\n",
        "                            epochs= 20,\n",
        "                            validation_data= valid_it,\n",
        "                            steps_per_epoch= 10,\n",
        "                            validation_steps= 3,\n",
        "                            verbose=1)"
      ],
      "metadata": {
        "colab": {
          "base_uri": "https://localhost:8080/"
        },
        "id": "L0SphNp_2ZBX",
        "outputId": "6a5e6c2e-f968-411f-b6b5-1879ae63faa9"
      },
      "execution_count": 11,
      "outputs": [
        {
          "output_type": "stream",
          "name": "stdout",
          "text": [
            "Epoch 1/20\n",
            "10/10 [==============================] - 52s 5s/step - loss: 21.5189 - accuracy: 0.5200 - val_loss: 12.9401 - val_accuracy: 0.6667\n",
            "Epoch 2/20\n",
            "10/10 [==============================] - 22s 2s/step - loss: 11.7145 - accuracy: 0.6000 - val_loss: 12.7453 - val_accuracy: 0.7333\n",
            "Epoch 3/20\n",
            "10/10 [==============================] - 14s 1s/step - loss: 8.8181 - accuracy: 0.6000 - val_loss: 7.6898 - val_accuracy: 0.7333\n",
            "Epoch 4/20\n",
            "10/10 [==============================] - 6s 669ms/step - loss: 4.7085 - accuracy: 0.8298 - val_loss: 0.9218 - val_accuracy: 0.7333\n",
            "Epoch 5/20\n",
            "10/10 [==============================] - 6s 546ms/step - loss: 7.8650 - accuracy: 0.7000 - val_loss: 5.4598 - val_accuracy: 0.7333\n",
            "Epoch 6/20\n",
            "10/10 [==============================] - 5s 455ms/step - loss: 2.3392 - accuracy: 0.8723 - val_loss: 2.0164 - val_accuracy: 0.9333\n",
            "Epoch 7/20\n",
            "10/10 [==============================] - 3s 201ms/step - loss: 3.6992 - accuracy: 0.7447 - val_loss: 9.5658 - val_accuracy: 0.6667\n",
            "Epoch 8/20\n",
            "10/10 [==============================] - 3s 348ms/step - loss: 1.2045 - accuracy: 0.8936 - val_loss: 0.6694 - val_accuracy: 0.8667\n",
            "Epoch 9/20\n",
            "10/10 [==============================] - 5s 490ms/step - loss: 1.9648 - accuracy: 0.8400 - val_loss: 7.9143 - val_accuracy: 0.7333\n",
            "Epoch 10/20\n",
            "10/10 [==============================] - 2s 208ms/step - loss: 2.0596 - accuracy: 0.8085 - val_loss: 3.2975 - val_accuracy: 0.7333\n",
            "Epoch 11/20\n",
            "10/10 [==============================] - 2s 226ms/step - loss: 1.3921 - accuracy: 0.9200 - val_loss: 4.9863 - val_accuracy: 0.8667\n",
            "Epoch 12/20\n",
            "10/10 [==============================] - 3s 308ms/step - loss: 0.7570 - accuracy: 0.9362 - val_loss: 4.5534 - val_accuracy: 0.6667\n",
            "Epoch 13/20\n",
            "10/10 [==============================] - 2s 228ms/step - loss: 3.9363 - accuracy: 0.7400 - val_loss: 7.4772 - val_accuracy: 0.7333\n",
            "Epoch 14/20\n",
            "10/10 [==============================] - 2s 222ms/step - loss: 3.6313 - accuracy: 0.8200 - val_loss: 2.9082 - val_accuracy: 0.7333\n",
            "Epoch 15/20\n",
            "10/10 [==============================] - 2s 226ms/step - loss: 3.0815 - accuracy: 0.8000 - val_loss: 4.5805 - val_accuracy: 0.8667\n",
            "Epoch 16/20\n",
            "10/10 [==============================] - 2s 212ms/step - loss: 2.7459 - accuracy: 0.8511 - val_loss: 3.5849 - val_accuracy: 0.8667\n",
            "Epoch 17/20\n",
            "10/10 [==============================] - 2s 215ms/step - loss: 1.3482 - accuracy: 0.8936 - val_loss: 3.6222 - val_accuracy: 0.7333\n",
            "Epoch 18/20\n",
            "10/10 [==============================] - 2s 229ms/step - loss: 5.3908 - accuracy: 0.8085 - val_loss: 3.8583 - val_accuracy: 0.8000\n",
            "Epoch 19/20\n",
            "10/10 [==============================] - 2s 211ms/step - loss: 0.3862 - accuracy: 0.9400 - val_loss: 6.4946 - val_accuracy: 0.7333\n",
            "Epoch 20/20\n",
            "10/10 [==============================] - 2s 219ms/step - loss: 0.7427 - accuracy: 0.9200 - val_loss: 2.4598 - val_accuracy: 0.9333\n"
          ]
        }
      ]
    },
    {
      "cell_type": "code",
      "source": [
        "fig1 = plt.gcf()\n",
        "plt.plot(history.history['accuracy'])\n",
        "plt.plot(history.history['val_accuracy'])\n",
        "plt.axis(ymin=0.4,ymax=1)\n",
        "plt.grid()\n",
        "plt.title('Model Accuracy')\n",
        "plt.ylabel('Accuracy')\n",
        "plt.xlabel('Epochs')\n",
        "plt.legend(['train', 'validation'])\n",
        "plt.show()"
      ],
      "metadata": {
        "colab": {
          "base_uri": "https://localhost:8080/",
          "height": 295
        },
        "id": "5QS6O3MQ2eJN",
        "outputId": "98557f0e-ccc6-47a1-adb6-6bdfae7ad4a3"
      },
      "execution_count": 12,
      "outputs": [
        {
          "output_type": "display_data",
          "data": {
            "text/plain": [
              "<Figure size 432x288 with 1 Axes>"
            ],
            "image/png": "[encoded data removed]"
          },
          "metadata": {
            "needs_background": "light"
          }
        }
      ]
    },
    {
      "cell_type": "code",
      "source": [],
      "metadata": {
        "id": "7eLoMxWo2ZFS"
      },
      "execution_count": null,
      "outputs": []
    },
    {
      "cell_type": "code",
      "source": [],
      "metadata": {
        "id": "WYxw0NoE2ZQC"
      },
      "execution_count": null,
      "outputs": []
    }
  ]
}